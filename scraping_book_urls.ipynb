{
 "cells": [
  {
   "cell_type": "code",
   "execution_count": 1,
   "metadata": {},
   "outputs": [],
   "source": [
    "# Import dependencies\n",
    "\n",
    "from splinter import Browser\n",
    "from bs4 import BeautifulSoup\n",
    "import numpy as np\n",
    "import pandas as pd\n",
    "from sqlalchemy import create_engine"
   ]
  },
  {
   "cell_type": "code",
   "execution_count": 2,
   "metadata": {},
   "outputs": [],
   "source": [
    "executable_path = {'executable_path': '/usr/local/bin/chromedriver'}\n",
    "browser = Browser('chrome', **executable_path, headless=False)"
   ]
  },
  {
   "cell_type": "markdown",
   "metadata": {},
   "source": [
    "## Scrape book data and load into a DataFrame"
   ]
  },
  {
   "cell_type": "code",
   "execution_count": 3,
   "metadata": {},
   "outputs": [],
   "source": [
    "# Set the url to be the online bookstore, and open a scraping session\n",
    "url = 'http://books.toscrape.com/'\n",
    "browser.visit(url)\n",
    "browser_url = browser.url"
   ]
  },
  {
   "cell_type": "code",
   "execution_count": 4,
   "metadata": {},
   "outputs": [],
   "source": [
    "# Initialize empty lists for storing scraped book titles, links, product descriptions, prices\n",
    "titles = []\n",
    "full_links = []\n",
    "product_descriptions = []\n",
    "prices = []"
   ]
  },
  {
   "cell_type": "code",
   "execution_count": 5,
   "metadata": {
    "scrolled": false
   },
   "outputs": [
    {
     "name": "stdout",
     "output_type": "stream",
     "text": [
      "Scraping Complete\n"
     ]
    }
   ],
   "source": [
    "# Iterate through all pages\n",
    "for x in range(50):\n",
    "    # HTML object\n",
    "    html = browser.html\n",
    "    # Parse HTML with Beautiful Soup\n",
    "    soup = BeautifulSoup(html, 'html.parser')\n",
    "    # Retrieve all elements that contain book information\n",
    "    articles = soup.find_all('article', class_='product_pod')\n",
    "    browser_url = '/'.join(browser.url.rstrip('/').split('/')[:-1])\n",
    "\n",
    "    # Iterate through each book\n",
    "    for article in articles:\n",
    "        # Use Beautiful Soup's find() method to navigate and retrieve the anchor tag pertaining to each book\n",
    "        h3 = article.find('h3')\n",
    "        link = h3.find('a')\n",
    "\n",
    "        # Compile the book-specific web address, and handle the landing page's peculiar formatting\n",
    "        href = link['href']\n",
    "        if x == 0:\n",
    "            href = \"books.toscrape.com/\" + href\n",
    "        \n",
    "        # Complete the concatenation of the book page url\n",
    "        full_link = browser_url + \"/\" + href\n",
    "        full_links.append(full_link)\n",
    "\n",
    "        # Retrieve the title of the book and add it to our list of books\n",
    "        title = link['title']\n",
    "        titles.append(title)\n",
    "        \n",
    "\n",
    "    # Click the 'Next' button on each page, otherwise print that scraping is complete\n",
    "    try:\n",
    "        browser.click_link_by_text('next')\n",
    "          \n",
    "    except:\n",
    "        print(\"Scraping Complete\")"
   ]
  },
  {
   "cell_type": "code",
   "execution_count": 6,
   "metadata": {},
   "outputs": [],
   "source": [
    "# Follow each book's link to grab the production description and price for each book\n",
    "for link in full_links:\n",
    "    browser.visit(link)\n",
    "    html = browser.html\n",
    "    soup = BeautifulSoup(html, 'html.parser')\n",
    "    \n",
    "    # Find and append the product description of the current book to our list\n",
    "    product_description = soup.find_all('p')[3].text\n",
    "    product_descriptions.append(product_description)\n",
    "        \n",
    "    # Find and append the float-formatted price of the current book to our list\n",
    "    price = float(soup.find_all('p', class_='price_color')[0].text.strip('£'))\n",
    "    prices.append(price)"
   ]
  },
  {
   "cell_type": "code",
   "execution_count": 7,
   "metadata": {},
   "outputs": [],
   "source": [
    "# Create a dataframe containing the scraped book data (urls, titles, descriptions, and prices)\n",
    "books_df = pd.DataFrame(\n",
    "    {\"link\": full_links,\n",
    "     \"title\": titles,\n",
    "     \"description\": product_descriptions,\n",
    "     \"price\": prices\n",
    "     }\n",
    ")"
   ]
  },
  {
   "cell_type": "markdown",
   "metadata": {},
   "source": [
    "## Scrape quote data and load into DataFrames"
   ]
  },
  {
   "cell_type": "code",
   "execution_count": 8,
   "metadata": {},
   "outputs": [],
   "source": [
    "# Set the url to be the quotes website, and open a scraping session\n",
    "quotes_url = 'http://quotes.toscrape.com/'\n",
    "browser.visit(quotes_url)"
   ]
  },
  {
   "cell_type": "code",
   "execution_count": 9,
   "metadata": {},
   "outputs": [],
   "source": [
    "# Initialize an empty list for storing speaker names\n",
    "speakers = []"
   ]
  },
  {
   "cell_type": "code",
   "execution_count": 10,
   "metadata": {},
   "outputs": [],
   "source": [
    "# Iterate through each quote\n",
    "for x in range(1, 11):\n",
    "\n",
    "    # Parse HTML with Beautiful Soup\n",
    "    html = browser.html\n",
    "    soup = BeautifulSoup(html, 'html.parser')\n",
    "    quotes = soup.find_all('small', class_='author')\n",
    "\n",
    "    # Retrieve the name of the each quote speaker and add it to our list of speakers\n",
    "    for quote in quotes:\n",
    "        speakers.append(quote.text)\n",
    "\n",
    "    # Work through all ten pages of quotes by clicking 'Next' at the end of each page\n",
    "    if x != 10:\n",
    "        browser.click_link_by_partial_text('Next')"
   ]
  },
  {
   "cell_type": "code",
   "execution_count": 11,
   "metadata": {},
   "outputs": [],
   "source": [
    "# Create a dataframe containing the scraped quotes data (speakers)\n",
    "quotes_df = pd.DataFrame(\n",
    "    {\"quote_speaker\": speakers\n",
    "     }\n",
    ")"
   ]
  },
  {
   "cell_type": "code",
   "execution_count": 12,
   "metadata": {},
   "outputs": [],
   "source": [
    "# Create an array that has an ordered array of unique quote speakers\n",
    "unique_speakers = np.unique(np.array(speakers))"
   ]
  },
  {
   "cell_type": "code",
   "execution_count": 13,
   "metadata": {
    "scrolled": true
   },
   "outputs": [],
   "source": [
    "# Convert the unique speakers back into a list which can be loaded into a DataFrame\n",
    "unique_speakers_list = unique_speakers.tolist()\n"
   ]
  },
  {
   "cell_type": "code",
   "execution_count": 14,
   "metadata": {},
   "outputs": [],
   "source": [
    "# Create a dataframe containing the unique speakers\n",
    "speakers_df = pd.DataFrame(\n",
    "    {\"speaker\": unique_speakers_list\n",
    "     }\n",
    ")"
   ]
  },
  {
   "cell_type": "markdown",
   "metadata": {},
   "source": [
    "## Find speakers in book descriptions and build a DataFrame of \"matches\""
   ]
  },
  {
   "cell_type": "code",
   "execution_count": 15,
   "metadata": {},
   "outputs": [],
   "source": [
    "# Initialize empty list for storing titles of the books and names speakers who match\n",
    "matches_book_title_list = []\n",
    "matches_speaker_name_list = []"
   ]
  },
  {
   "cell_type": "code",
   "execution_count": 16,
   "metadata": {},
   "outputs": [],
   "source": [
    "# Loop through the speaker list and record title of each book description mentioning the speaker names\n",
    "\n",
    "num_speakers = np.arange(0,len(unique_speakers_list))\n",
    "\n",
    "for i in num_speakers:\n",
    "\n",
    "    match_book_id_index = books_df[books_df['description'].str.contains(unique_speakers_list[i])].index\n",
    "    \n",
    "    if len(match_book_id_index) > 0:       \n",
    "        \n",
    "        for foo in match_book_id_index:\n",
    "            matches_book_title_list.append(books_df.iloc[foo,1])\n",
    "            matches_speaker_name_list.append(unique_speakers_list[i])\n",
    "   \n",
    "    i = i + 1"
   ]
  },
  {
   "cell_type": "code",
   "execution_count": 17,
   "metadata": {},
   "outputs": [],
   "source": [
    "# Create a DataFrame containing the book titles and speaker names where the product description matches\n",
    "matches_df = pd.DataFrame({\n",
    "    \"book_title\": matches_book_title_list,\n",
    "    \"speaker_name\": matches_speaker_name_list\n",
    "})"
   ]
  },
  {
   "cell_type": "markdown",
   "metadata": {},
   "source": [
    "## Create database in Postgres using schema.sql"
   ]
  },
  {
   "cell_type": "markdown",
   "metadata": {},
   "source": [
    "#### This happens offline (i.e., using PgAdmin) prior to running the next code"
   ]
  },
  {
   "cell_type": "markdown",
   "metadata": {},
   "source": [
    "## Create database connection"
   ]
  },
  {
   "cell_type": "code",
   "execution_count": 18,
   "metadata": {},
   "outputs": [],
   "source": [
    "# Create a connection to the database we created offline\n",
    "connection_string = \"postgres:1234@localhost:5432/etl-project\"\n",
    "engine = create_engine(f'postgresql://{connection_string}')"
   ]
  },
  {
   "cell_type": "code",
   "execution_count": 19,
   "metadata": {},
   "outputs": [
    {
     "data": {
      "text/plain": [
       "['quotes', 'books', 'matches', 'speakers']"
      ]
     },
     "execution_count": 19,
     "metadata": {},
     "output_type": "execute_result"
    }
   ],
   "source": [
    "# Confirm tables\n",
    "engine.table_names()"
   ]
  },
  {
   "cell_type": "markdown",
   "metadata": {},
   "source": [
    "## Load DataFrames into database"
   ]
  },
  {
   "cell_type": "code",
   "execution_count": 20,
   "metadata": {},
   "outputs": [],
   "source": [
    "# Load books into Database\n",
    "books_df.to_sql(name='books', con=engine, if_exists='append', index=False) "
   ]
  },
  {
   "cell_type": "code",
   "execution_count": 21,
   "metadata": {},
   "outputs": [],
   "source": [
    "# Load quotes into Database\n",
    "quotes_df.to_sql(name='quotes', con=engine, if_exists='append', index=False) "
   ]
  },
  {
   "cell_type": "code",
   "execution_count": 22,
   "metadata": {},
   "outputs": [],
   "source": [
    "# Load speakers into Database\n",
    "speakers_df.to_sql(name='speakers', con=engine, if_exists='append', index=False) "
   ]
  },
  {
   "cell_type": "code",
   "execution_count": 23,
   "metadata": {},
   "outputs": [],
   "source": [
    "# Load books table back into DataFrames so we can grab database IDs of records of interest\n",
    "books_2_df = pd.read_sql(\"select * from books\", con=engine)"
   ]
  },
  {
   "cell_type": "code",
   "execution_count": 24,
   "metadata": {},
   "outputs": [],
   "source": [
    "# Load speakers table back into DataFrames so we can grab database IDs of records of interest\n",
    "speakers_2_df = pd.read_sql(\"select * from speakers\", con=engine)"
   ]
  },
  {
   "cell_type": "code",
   "execution_count": 25,
   "metadata": {},
   "outputs": [],
   "source": [
    "# Merge matches DataFrame with books from DataBase\n",
    "matches_df_2 = matches_df.merge(books_2_df, left_on=\"book_title\", right_on=\"title\")"
   ]
  },
  {
   "cell_type": "code",
   "execution_count": 26,
   "metadata": {},
   "outputs": [],
   "source": [
    "# Merge evolved matches DataFrame with speakers from DataBase\n",
    "matches_df_3 = matches_df_2.merge(speakers_2_df, left_on=\"speaker_name\", right_on=\"speaker\")"
   ]
  },
  {
   "cell_type": "code",
   "execution_count": 27,
   "metadata": {},
   "outputs": [],
   "source": [
    "# Create a filtered matches dataframe from specific columns\n",
    "matches_cols = [\"id_x\", \"id_y\"]\n",
    "matches_transformed_df = matches_df_3[matches_cols].copy()\n",
    "\n",
    "# Rename the column headers\n",
    "matches_transformed_df = matches_transformed_df.rename(columns={\"id_x\": \"book_id\", \"id_y\": \"speaker_id\"})"
   ]
  },
  {
   "cell_type": "code",
   "execution_count": 28,
   "metadata": {},
   "outputs": [],
   "source": [
    "# Load matches into Database\n",
    "matches_transformed_df.to_sql(name='matches', con=engine, if_exists='append', index=False) "
   ]
  },
  {
   "cell_type": "code",
   "execution_count": null,
   "metadata": {},
   "outputs": [],
   "source": []
  }
 ],
 "metadata": {
  "kernelspec": {
   "display_name": "Python 3",
   "language": "python",
   "name": "python3"
  },
  "language_info": {
   "codemirror_mode": {
    "name": "ipython",
    "version": 3
   },
   "file_extension": ".py",
   "mimetype": "text/x-python",
   "name": "python",
   "nbconvert_exporter": "python",
   "pygments_lexer": "ipython3",
   "version": "3.7.3"
  }
 },
 "nbformat": 4,
 "nbformat_minor": 2
}
